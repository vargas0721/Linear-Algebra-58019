{
  "nbformat": 4,
  "nbformat_minor": 0,
  "metadata": {
    "colab": {
      "name": "Python Exercise 1.ipynb",
      "provenance": [],
      "authorship_tag": "ABX9TyNeNFAiRIzqrYA8wP5YNXgg",
      "include_colab_link": true
    },
    "kernelspec": {
      "name": "python3",
      "display_name": "Python 3"
    },
    "language_info": {
      "name": "python"
    }
  },
  "cells": [
    {
      "cell_type": "markdown",
      "metadata": {
        "id": "view-in-github",
        "colab_type": "text"
      },
      "source": [
        "<a href=\"https://colab.research.google.com/github/vargas0721/Linear-Algebra-58019/blob/main/Python_Exercise_1.ipynb\" target=\"_parent\"><img src=\"https://colab.research.google.com/assets/colab-badge.svg\" alt=\"Open In Colab\"/></a>"
      ]
    },
    {
      "cell_type": "markdown",
      "metadata": {
        "id": "i8iK8YgY_5PS"
      },
      "source": [
        "Matrix and its operations\n"
      ]
    },
    {
      "cell_type": "code",
      "metadata": {
        "colab": {
          "base_uri": "https://localhost:8080/"
        },
        "id": "H55gVuKF_-zi",
        "outputId": "f1adbbfa-cbef-4b2d-c950-18556ead578e"
      },
      "source": [
        "#numpy\n",
        "import numpy as np\n",
        "a = np.array([[-5,0],[4,1]])\n",
        "print(a)\n",
        "print()\n",
        "b = np.array([[6,-3],[2,3]])\n",
        "print(b)\n",
        "print()\n",
        "print(a+b)\n",
        "print()\n",
        "print(b-a)\n",
        "print()\n",
        "print(a-b)"
      ],
      "execution_count": 1,
      "outputs": [
        {
          "output_type": "stream",
          "name": "stdout",
          "text": [
            "[[-5  0]\n",
            " [ 4  1]]\n",
            "\n",
            "[[ 6 -3]\n",
            " [ 2  3]]\n",
            "\n",
            "[[ 1 -3]\n",
            " [ 6  4]]\n",
            "\n",
            "[[11 -3]\n",
            " [-2  2]]\n",
            "\n",
            "[[-11   3]\n",
            " [  2  -2]]\n"
          ]
        }
      ]
    }
  ]
}