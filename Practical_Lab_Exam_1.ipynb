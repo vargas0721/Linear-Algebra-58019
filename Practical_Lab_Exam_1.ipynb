{
  "nbformat": 4,
  "nbformat_minor": 0,
  "metadata": {
    "colab": {
      "name": "Practical Lab Exam 1.ipynb",
      "provenance": [],
      "authorship_tag": "ABX9TyMaVhceFoaOKbtOVX/iOuZH",
      "include_colab_link": true
    },
    "kernelspec": {
      "name": "python3",
      "display_name": "Python 3"
    },
    "language_info": {
      "name": "python"
    }
  },
  "cells": [
    {
      "cell_type": "markdown",
      "metadata": {
        "id": "view-in-github",
        "colab_type": "text"
      },
      "source": [
        "<a href=\"https://colab.research.google.com/github/vargas0721/Linear-Algebra-58019/blob/main/Practical_Lab_Exam_1.ipynb\" target=\"_parent\"><img src=\"https://colab.research.google.com/assets/colab-badge.svg\" alt=\"Open In Colab\"/></a>"
      ]
    },
    {
      "cell_type": "markdown",
      "metadata": {
        "id": "bOqmoIwI8w9-"
      },
      "source": [
        "# **Practical Lab Exam 1**"
      ]
    },
    {
      "cell_type": "code",
      "metadata": {
        "id": "PT8wf1hwtECj"
      },
      "source": [
        "#numpy\n",
        "import numpy as np\n",
        "A = np.array([[1,2,3],[4,5,6]])\n",
        "print(A)\n",
        "print()\n",
        "B = np.array([[1,2],[3,4],[5,6]])\n",
        "print(B)\n",
        "print()\n",
        "C = np.array([[1,2,3],[4,5,6],[7,8,9]])\n",
        "print(C)\n",
        "print()\n",
        "D = np.array([[1,2],[3,4]])\n",
        "print(D)\n",
        "print()\n",
        "dot = np.dot(A,B)\n",
        "print(dot)\n",
        "print()\n",
        "print(D+D)\n",
        "print()\n",
        "print(2*C)"
      ],
      "execution_count": null,
      "outputs": []
    },
    {
      "cell_type": "code",
      "metadata": {
        "id": "wzCcLNz-1sKa"
      },
      "source": [
        "import numpy as np\n",
        "A = np.array([5, 3, -1])\n",
        "\n",
        "print (\"Size of array:\", A.size)\n",
        "print (\"Type of array:\", type(A))\n",
        "print (\"Shape or array:\", A.shape)\n",
        "print (\"Dimension of array:\", A.ndim)\n"
      ],
      "execution_count": null,
      "outputs": []
    }
  ]
}