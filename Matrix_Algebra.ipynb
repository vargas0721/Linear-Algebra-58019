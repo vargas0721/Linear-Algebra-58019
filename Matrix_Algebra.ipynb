{
  "nbformat": 4,
  "nbformat_minor": 0,
  "metadata": {
    "colab": {
      "name": "Matrix Algebra.ipynb",
      "provenance": [],
      "collapsed_sections": [],
      "authorship_tag": "ABX9TyOI3EtX//4PS0MbxJprR8ad",
      "include_colab_link": true
    },
    "kernelspec": {
      "name": "python3",
      "display_name": "Python 3"
    },
    "language_info": {
      "name": "python"
    }
  },
  "cells": [
    {
      "cell_type": "markdown",
      "metadata": {
        "id": "view-in-github",
        "colab_type": "text"
      },
      "source": [
        "<a href=\"https://colab.research.google.com/github/vargas0721/Linear-Algebra-58019/blob/main/Matrix_Algebra.ipynb\" target=\"_parent\"><img src=\"https://colab.research.google.com/assets/colab-badge.svg\" alt=\"Open In Colab\"/></a>"
      ]
    },
    {
      "cell_type": "markdown",
      "metadata": {
        "id": "4qCox0ww9wD8"
      },
      "source": [
        "#Python program to inverse"
      ]
    },
    {
      "cell_type": "code",
      "metadata": {
        "colab": {
          "base_uri": "https://localhost:8080/"
        },
        "id": "9xaJlwA14vXt",
        "outputId": "b9b2d782-2144-40a1-9219-fe097e360f37"
      },
      "source": [
        "import numpy as np\n",
        "A=np.array([[1,2,3],[4,5,6],[7,8,9]])\n",
        "print(A)"
      ],
      "execution_count": null,
      "outputs": [
        {
          "output_type": "stream",
          "name": "stdout",
          "text": [
            "[[1 2 3]\n",
            " [4 5 6]\n",
            " [7 8 9]]\n"
          ]
        }
      ]
    },
    {
      "cell_type": "code",
      "metadata": {
        "colab": {
          "base_uri": "https://localhost:8080/"
        },
        "id": "fYjZDOil9iY7",
        "outputId": "5984b5a3-47be-43ab-84ce-ce22f5472128"
      },
      "source": [
        "import numpy as np\n",
        "A=np.array([[1,2],[4,7]])\n",
        "B=(np.linalg.inv(A))\n",
        "print(B)"
      ],
      "execution_count": null,
      "outputs": [
        {
          "output_type": "stream",
          "name": "stdout",
          "text": [
            "[[-7.  2.]\n",
            " [ 4. -1.]]\n"
          ]
        }
      ]
    },
    {
      "cell_type": "code",
      "metadata": {
        "colab": {
          "base_uri": "https://localhost:8080/"
        },
        "id": "OLo2Swgv9k0B",
        "outputId": "ccef9afb-7540-43ec-9f50-e1516067b9f1"
      },
      "source": [
        "import numpy as np\n",
        "A=np.array([[1,2],[4,7]])\n",
        "invA=(np.linalg.inv(A))\n",
        "print(invA)"
      ],
      "execution_count": null,
      "outputs": [
        {
          "output_type": "stream",
          "name": "stdout",
          "text": [
            "[[-7.  2.]\n",
            " [ 4. -1.]]\n"
          ]
        }
      ]
    },
    {
      "cell_type": "code",
      "metadata": {
        "colab": {
          "base_uri": "https://localhost:8080/"
        },
        "id": "BW7FMsoi9mNZ",
        "outputId": "454bdc91-9f85-4378-bb6c-c2b089b29850"
      },
      "source": [
        "C=np.dot(A,invA)\n",
        "print(C)"
      ],
      "execution_count": null,
      "outputs": [
        {
          "output_type": "stream",
          "name": "stdout",
          "text": [
            "[[1. 0.]\n",
            " [0. 1.]]\n"
          ]
        }
      ]
    },
    {
      "cell_type": "code",
      "metadata": {
        "colab": {
          "base_uri": "https://localhost:8080/"
        },
        "id": "FtDeejRR9nTJ",
        "outputId": "7c0b4540-b503-4909-9fb3-09951fc79af2"
      },
      "source": [
        "##Python Program to Transpose a 3x3 Matrix A=([6,1,1],[4,-2,5],[2,8,7])\n",
        "A=np.array([[6,1,1],[4,-2,5],[2,8,7]])\n",
        "print(A)\n",
        "B=np.transpose(A)\n",
        "print(B)"
      ],
      "execution_count": null,
      "outputs": [
        {
          "output_type": "stream",
          "name": "stdout",
          "text": [
            "[[ 6  1  1]\n",
            " [ 4 -2  5]\n",
            " [ 2  8  7]]\n",
            "[[ 6  4  2]\n",
            " [ 1 -2  8]\n",
            " [ 1  5  7]]\n"
          ]
        }
      ]
    },
    {
      "cell_type": "code",
      "metadata": {
        "colab": {
          "base_uri": "https://localhost:8080/"
        },
        "id": "OSMzSoSm9oep",
        "outputId": "05ddd6c3-b0f7-4aff-fe79-7ed5e4d92101"
      },
      "source": [
        "#Python Program to Inverse a 3x3 Matrix A=([6,1,1],[4,-2,5],[2,8,7])\n",
        "A=np.array([[6,1,1],[4,-2,5],[2,8,7]])\n",
        "print(A)\n",
        "B=(np.linalg.inv(A))\n",
        "print(B)"
      ],
      "execution_count": null,
      "outputs": [
        {
          "output_type": "stream",
          "name": "stdout",
          "text": [
            "[[ 6  1  1]\n",
            " [ 4 -2  5]\n",
            " [ 2  8  7]]\n",
            "[[ 0.17647059 -0.00326797 -0.02287582]\n",
            " [ 0.05882353 -0.13071895  0.08496732]\n",
            " [-0.11764706  0.1503268   0.05228758]]\n"
          ]
        }
      ]
    },
    {
      "cell_type": "markdown",
      "metadata": {
        "id": "k0M_qi9i9rIq"
      },
      "source": [
        "#Program Code Product of A and B"
      ]
    },
    {
      "cell_type": "code",
      "metadata": {
        "colab": {
          "base_uri": "https://localhost:8080/"
        },
        "id": "eo9GKofR9rSj",
        "outputId": "131270f1-088a-48ae-b307-23be399a7b5f"
      },
      "source": [
        "productAB=np.dot(A,B)\n",
        "print(productAB)"
      ],
      "execution_count": null,
      "outputs": [
        {
          "output_type": "stream",
          "name": "stdout",
          "text": [
            "[[ 1.00000000e+00  0.00000000e+00  2.77555756e-17]\n",
            " [-1.38777878e-17  1.00000000e+00  1.38777878e-17]\n",
            " [-4.16333634e-17  1.38777878e-16  1.00000000e+00]]\n"
          ]
        }
      ]
    },
    {
      "cell_type": "markdown",
      "metadata": {
        "id": "jIva0DjnFEXd"
      },
      "source": [
        "#Coding Activity 3\n",
        "#Create a Python Program to inverse and transpose a 4x4 matrix\n"
      ]
    },
    {
      "cell_type": "code",
      "metadata": {
        "colab": {
          "base_uri": "https://localhost:8080/"
        },
        "id": "nc-DiIFODBDC",
        "outputId": "4a11391f-7b43-4e31-de5d-2fa5ddcf374f"
      },
      "source": [
        "#Python Program to Inverse a 4x4 Matrix A=([6,1,1,3],[4,-2,5,1],[2,8,7,6],[3,1,9,7])\n",
        "A=np.array( [[6,1,1,3],[4,-2,5,1],[2,8,7,6],[3,1,9,7]] )\n",
        "print(A)\n",
        "print()\n",
        "B = (np.linalg.inv(A))\n",
        "print(B)\n",
        "print()"
      ],
      "execution_count": 26,
      "outputs": [
        {
          "output_type": "stream",
          "name": "stdout",
          "text": [
            "[[ 6  1  1  3]\n",
            " [ 4 -2  5  1]\n",
            " [ 2  8  7  6]\n",
            " [ 3  1  9  7]]\n",
            "\n",
            "[[ 0.13368984  0.10695187  0.02139037 -0.09090909]\n",
            " [-0.00229183  0.02673797  0.14820474 -0.12987013]\n",
            " [-0.12987013  0.18181818  0.06493506 -0.02597403]\n",
            " [ 0.11000764 -0.28342246 -0.11382735  0.23376623]]\n",
            "\n"
          ]
        }
      ]
    },
    {
      "cell_type": "code",
      "metadata": {
        "colab": {
          "base_uri": "https://localhost:8080/"
        },
        "id": "lLyfW3wrDIzO",
        "outputId": "d0333cd6-121e-4215-cc8a-559d823763c6"
      },
      "source": [
        "#Python Program to Transpose a 4x4 Matrix A=([6,1,1,3],[4,-2,5,1],[2,8,7,6],[3,1,9,7])\n",
        "A=np.array( [[6,1,1,3],[4,-2,5,1],[2,8,7,6],[3,1,9,7]])\n",
        "print(A)\n",
        "B=np.transpose(A)\n",
        "print(B)"
      ],
      "execution_count": 25,
      "outputs": [
        {
          "output_type": "stream",
          "name": "stdout",
          "text": [
            "[[ 6  1  1  3]\n",
            " [ 4 -2  5  1]\n",
            " [ 2  8  7  6]\n",
            " [ 3  1  9  7]]\n",
            "[[ 6  4  2  3]\n",
            " [ 1 -2  8  1]\n",
            " [ 1  5  7  9]\n",
            " [ 3  1  6  7]]\n"
          ]
        }
      ]
    }
  ]
}