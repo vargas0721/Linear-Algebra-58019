{
  "nbformat": 4,
  "nbformat_minor": 0,
  "metadata": {
    "colab": {
      "name": "Final Exam.ipynb",
      "provenance": [],
      "authorship_tag": "ABX9TyNebVWnktBK2pVkhd/oMyZz",
      "include_colab_link": true
    },
    "kernelspec": {
      "name": "python3",
      "display_name": "Python 3"
    },
    "language_info": {
      "name": "python"
    }
  },
  "cells": [
    {
      "cell_type": "markdown",
      "metadata": {
        "id": "view-in-github",
        "colab_type": "text"
      },
      "source": [
        "<a href=\"https://colab.research.google.com/github/vargas0721/Linear-Algebra-58019/blob/main/Final_Exam.ipynb\" target=\"_parent\"><img src=\"https://colab.research.google.com/assets/colab-badge.svg\" alt=\"Open In Colab\"/></a>"
      ]
    },
    {
      "cell_type": "markdown",
      "source": [
        "# **Problem 1**"
      ],
      "metadata": {
        "id": "wrPFHW59Q9vC"
      }
    },
    {
      "cell_type": "code",
      "execution_count": 22,
      "metadata": {
        "colab": {
          "base_uri": "https://localhost:8080/"
        },
        "id": "IgesCkzMKhDw",
        "outputId": "69c821b9-07ff-48bb-e813-a98f79231694"
      },
      "outputs": [
        {
          "output_type": "stream",
          "name": "stdout",
          "text": [
            "[[13.]\n",
            " [57.]\n",
            " [19.]]\n"
          ]
        }
      ],
      "source": [
        "A = np.array([[1,1,1],[1,0,4],[0,0,5]])\n",
        "B = np.array([[89],[89],[95]])\n",
        "X = np.linalg.inv(A).dot(B)\n",
        "print(X)"
      ]
    },
    {
      "cell_type": "markdown",
      "source": [
        "# **Problem 2**"
      ],
      "metadata": {
        "id": "zk9ma6HBQ5jZ"
      }
    },
    {
      "cell_type": "code",
      "source": [
        "import numpy as np\n",
        "from scipy.linalg import solve\n",
        "A=np.array([[3,-1,1],[9,-3,3],[-12,4,-4]])\n",
        "print(A)\n",
        "print()\n",
        "B=np.array([[5],[15],[-20]])\n",
        "print(B)\n",
        "\n",
        "#X=solve(A,B)\n",
        "#print(X)\n",
        "\n",
        "\n",
        "#Error of linalgerror : singular matrix\n",
        "#This problem results in an error since the determinant is 0. As a result, the inverse of the matrix does not exist."
      ],
      "metadata": {
        "colab": {
          "base_uri": "https://localhost:8080/"
        },
        "id": "BDQvnO8fMLPq",
        "outputId": "edb70894-40e6-4946-820a-c60d84b93212"
      },
      "execution_count": 27,
      "outputs": [
        {
          "output_type": "stream",
          "name": "stdout",
          "text": [
            "[[  3  -1   1]\n",
            " [  9  -3   3]\n",
            " [-12   4  -4]]\n",
            "\n",
            "[[  5]\n",
            " [ 15]\n",
            " [-20]]\n"
          ]
        }
      ]
    },
    {
      "cell_type": "markdown",
      "source": [
        "# **Problem 3**"
      ],
      "metadata": {
        "id": "8Xp_j-q_Q2HT"
      }
    },
    {
      "cell_type": "code",
      "source": [
        "import numpy as np\n",
        "from numpy.linalg import eig\n",
        "\n",
        "A = np.array([[8, 5, -6],[-12, -9, 12],[-3, -3, 5]])\n",
        "print(A)\n",
        "print()\n",
        "w,v = np.linalg.eig(A)\n",
        "print(\"The eigenvalues are: \\n\",w)\n",
        "print()\n",
        "print(\"The eigenvectors are: \\n\",v.round())"
      ],
      "metadata": {
        "colab": {
          "base_uri": "https://localhost:8080/"
        },
        "id": "Fv5O9vKoMLdZ",
        "outputId": "6a4eb6a1-aa41-4a7d-92f8-f0a77504cbd3"
      },
      "execution_count": 11,
      "outputs": [
        {
          "output_type": "stream",
          "name": "stdout",
          "text": [
            "[[  8   5  -6]\n",
            " [-12  -9  12]\n",
            " [ -3  -3   5]]\n",
            "\n",
            "The eigenvalues are: \n",
            " [-1.  3.  2.]\n",
            "\n",
            "The eigenvectors are: \n",
            " [[ 0. -1.  1.]\n",
            " [-1.  1.  0.]\n",
            " [-0. -0.  1.]]\n"
          ]
        }
      ]
    }
  ]
}