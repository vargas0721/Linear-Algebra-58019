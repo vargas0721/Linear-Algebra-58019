{
  "nbformat": 4,
  "nbformat_minor": 0,
  "metadata": {
    "colab": {
      "name": "Python_Exercise_2.ipynb",
      "provenance": [],
      "collapsed_sections": [],
      "authorship_tag": "ABX9TyOyZpeO3THIdi+XSB8amjnN",
      "include_colab_link": true
    },
    "kernelspec": {
      "name": "python3",
      "display_name": "Python 3"
    },
    "language_info": {
      "name": "python"
    }
  },
  "cells": [
    {
      "cell_type": "markdown",
      "metadata": {
        "id": "view-in-github",
        "colab_type": "text"
      },
      "source": [
        "<a href=\"https://colab.research.google.com/github/vargas0721/Linear-Algebra-58019/blob/main/Python_Exercise_2.ipynb\" target=\"_parent\"><img src=\"https://colab.research.google.com/assets/colab-badge.svg\" alt=\"Open In Colab\"/></a>"
      ]
    },
    {
      "cell_type": "markdown",
      "metadata": {
        "id": "woniVWnm1fKG"
      },
      "source": [
        "Representing vectors"
      ]
    },
    {
      "cell_type": "code",
      "metadata": {
        "colab": {
          "base_uri": "https://localhost:8080/"
        },
        "id": "ebwws97Q1hIU",
        "outputId": "54bdab88-c4f3-46b5-d572-ba40f683f1ee"
      },
      "source": [
        "import numpy as np\n",
        "A = np.array([4,3])\n",
        "B = np.array([2,-5])\n",
        "print('Vector A is',A)\n",
        "print('Vector B is',B)"
      ],
      "execution_count": 2,
      "outputs": [
        {
          "output_type": "stream",
          "name": "stdout",
          "text": [
            "Vector A is [4 3]\n",
            "Vector B is [ 2 -5]\n"
          ]
        }
      ]
    },
    {
      "cell_type": "markdown",
      "metadata": {
        "id": "kyH14H4f1hyz"
      },
      "source": [
        "Describing vectors in NumPy"
      ]
    },
    {
      "cell_type": "code",
      "metadata": {
        "colab": {
          "base_uri": "https://localhost:8080/"
        },
        "id": "a7tlawgs1lyV",
        "outputId": "3a3c51c4-6db3-416d-abb6-1bc774a03c4e"
      },
      "source": [
        "ball1 = np.array([1,2,3])\n",
        "ball2 = np.array([0,1,-1])\n",
        "pool = np.array([ball1,ball2])\n",
        "pool.shape\n",
        "pool.ndim"
      ],
      "execution_count": 3,
      "outputs": [
        {
          "output_type": "execute_result",
          "data": {
            "text/plain": [
              "2"
            ]
          },
          "metadata": {},
          "execution_count": 3
        }
      ]
    },
    {
      "cell_type": "code",
      "metadata": {
        "colab": {
          "base_uri": "https://localhost:8080/"
        },
        "id": "HqfYD32e1_gH",
        "outputId": "1c09eae5-5fbb-446a-95e3-f0a57999f5ff"
      },
      "source": [
        "U = np.array([[1,2,3],[4,5,6]])\n",
        "U"
      ],
      "execution_count": 4,
      "outputs": [
        {
          "output_type": "execute_result",
          "data": {
            "text/plain": [
              "array([[1, 2, 3],\n",
              "       [4, 5, 6]])"
            ]
          },
          "metadata": {},
          "execution_count": 4
        }
      ]
    },
    {
      "cell_type": "code",
      "metadata": {
        "colab": {
          "base_uri": "https://localhost:8080/"
        },
        "id": "uJZANNKn1_89",
        "outputId": "fc1667f3-0b0d-43ba-dd80-c1c25fc067e5"
      },
      "source": [
        "U = np.array([[1,2,3],[4,5,6]])\n",
        "U.shape"
      ],
      "execution_count": 5,
      "outputs": [
        {
          "output_type": "execute_result",
          "data": {
            "text/plain": [
              "(2, 3)"
            ]
          },
          "metadata": {},
          "execution_count": 5
        }
      ]
    },
    {
      "cell_type": "code",
      "metadata": {
        "colab": {
          "base_uri": "https://localhost:8080/"
        },
        "id": "OqY2Vpa22B6N",
        "outputId": "3baaa01e-ffae-4a97-c47a-fba3ccf6eac7"
      },
      "source": [
        "U = np.array([[1,2,3],[4,5,6]])\n",
        "U.ndim"
      ],
      "execution_count": 6,
      "outputs": [
        {
          "output_type": "execute_result",
          "data": {
            "text/plain": [
              "2"
            ]
          },
          "metadata": {},
          "execution_count": 6
        }
      ]
    },
    {
      "cell_type": "code",
      "metadata": {
        "colab": {
          "base_uri": "https://localhost:8080/"
        },
        "id": "ae2URxye2Cw9",
        "outputId": "6035ebdb-0fc8-4f20-88f6-03f7fe2aa34c"
      },
      "source": [
        "U = np.array([[1,2,3],[4,5,6]])\n",
        "U\n",
        "U.size"
      ],
      "execution_count": 7,
      "outputs": [
        {
          "output_type": "execute_result",
          "data": {
            "text/plain": [
              "6"
            ]
          },
          "metadata": {},
          "execution_count": 7
        }
      ]
    },
    {
      "cell_type": "markdown",
      "metadata": {
        "id": "INadOQYL2Wku"
      },
      "source": [
        "Space"
      ]
    },
    {
      "cell_type": "markdown",
      "metadata": {
        "id": "-97Bfqgt2XQF"
      },
      "source": [
        "Vector spaces are mathematical objects that abstractly capture the geometry and algebra of linear equations."
      ]
    },
    {
      "cell_type": "markdown",
      "metadata": {
        "id": "nMtgl25a2ZcV"
      },
      "source": [
        "Addition of Vectors"
      ]
    },
    {
      "cell_type": "code",
      "metadata": {
        "colab": {
          "base_uri": "https://localhost:8080/"
        },
        "id": "WLcYXZ2b2bm-",
        "outputId": "c24124c6-f226-4d50-aacb-d26f7c9db901"
      },
      "source": [
        "addend1 = np.array([0,0,0])\n",
        "addend2 = np.array([1,1,0])\n",
        "sum = addend1 + addend2\n",
        "sum"
      ],
      "execution_count": 16,
      "outputs": [
        {
          "output_type": "execute_result",
          "data": {
            "text/plain": [
              "array([1, 1, 0])"
            ]
          },
          "metadata": {},
          "execution_count": 16
        }
      ]
    },
    {
      "cell_type": "code",
      "metadata": {
        "colab": {
          "base_uri": "https://localhost:8080/"
        },
        "id": "7IJ51JdR2dj0",
        "outputId": "4871fbe9-0d04-4505-c14c-7395a7c9ab1b"
      },
      "source": [
        "addend1 = np.array([0,0,0])\n",
        "addend2 = np.array([1,1,0])\n",
        "resultant = np.add(addend1,addend2)\n",
        "resultant"
      ],
      "execution_count": 17,
      "outputs": [
        {
          "output_type": "execute_result",
          "data": {
            "text/plain": [
              "array([1, 1, 0])"
            ]
          },
          "metadata": {},
          "execution_count": 17
        }
      ]
    },
    {
      "cell_type": "markdown",
      "metadata": {
        "id": "YHSL799Z2ebo"
      },
      "source": [
        "Subtraction of Vector"
      ]
    },
    {
      "cell_type": "code",
      "metadata": {
        "colab": {
          "base_uri": "https://localhost:8080/"
        },
        "id": "UPfmCZU-2gMs",
        "outputId": "ec423987-1719-42b0-ca40-012263c0c8ab"
      },
      "source": [
        "#You will subtract the components of addend2 from addend1 : addend1-addend2\n",
        "difference = addend1-addend2\n",
        "difference"
      ],
      "execution_count": 18,
      "outputs": [
        {
          "output_type": "execute_result",
          "data": {
            "text/plain": [
              "array([-1, -1,  0])"
            ]
          },
          "metadata": {},
          "execution_count": 18
        }
      ]
    },
    {
      "cell_type": "code",
      "metadata": {
        "colab": {
          "base_uri": "https://localhost:8080/"
        },
        "id": "kFUUiFHZ2hac",
        "outputId": "cdff81a5-4d64-4b3d-f55d-923e10fba731"
      },
      "source": [
        "difference2 = np.subtract(addend1,addend2)\n",
        "difference2"
      ],
      "execution_count": 19,
      "outputs": [
        {
          "output_type": "execute_result",
          "data": {
            "text/plain": [
              "array([-1, -1,  0])"
            ]
          },
          "metadata": {},
          "execution_count": 19
        }
      ]
    },
    {
      "cell_type": "markdown",
      "metadata": {
        "id": "_RU5Elw62jtd"
      },
      "source": [
        "Scaling"
      ]
    },
    {
      "cell_type": "code",
      "metadata": {
        "colab": {
          "base_uri": "https://localhost:8080/"
        },
        "id": "ZpaMQFSU2kgO",
        "outputId": "a53e04cf-b6cb-4d00-8b0a-19a1a14e725f"
      },
      "source": [
        "A = np.array([1,5,8,9])\n",
        "S = 5*A\n",
        "S "
      ],
      "execution_count": 11,
      "outputs": [
        {
          "output_type": "execute_result",
          "data": {
            "text/plain": [
              "array([ 5, 25, 40, 45])"
            ]
          },
          "metadata": {},
          "execution_count": 11
        }
      ]
    },
    {
      "cell_type": "markdown",
      "metadata": {
        "id": "h8cVCN6_2l4U"
      },
      "source": [
        "Cross Product"
      ]
    },
    {
      "cell_type": "code",
      "metadata": {
        "colab": {
          "base_uri": "https://localhost:8080/"
        },
        "id": "FADkXrp22nYe",
        "outputId": "ef930ac5-d285-40ac-95d9-1a32884a3765"
      },
      "source": [
        "A = np.array([2,3])\n",
        "B = np.array([1,7])\n",
        "\n",
        "#Compute the cross product of A and B\n",
        "cross = np.cross(A,B)\n",
        "print(cross)"
      ],
      "execution_count": 10,
      "outputs": [
        {
          "output_type": "stream",
          "name": "stdout",
          "text": [
            "11\n"
          ]
        }
      ]
    },
    {
      "cell_type": "code",
      "metadata": {
        "colab": {
          "base_uri": "https://localhost:8080/"
        },
        "id": "45hkncsk2pUt",
        "outputId": "366d52bb-ceb0-42f1-ce8e-dfe342042f9b"
      },
      "source": [
        "A = np.array([2,3,4])\n",
        "B = np.array([1,7,1])\n",
        "\n",
        "#Compute the cross product of A and B\n",
        "cross = np.cross(A,B)\n",
        "print(cross)"
      ],
      "execution_count": 9,
      "outputs": [
        {
          "output_type": "stream",
          "name": "stdout",
          "text": [
            "[-25   2  11]\n"
          ]
        }
      ]
    },
    {
      "cell_type": "code",
      "metadata": {
        "colab": {
          "base_uri": "https://localhost:8080/"
        },
        "id": "tmgN5sWF2qXR",
        "outputId": "96c87579-a8c9-46f7-d399-710d717ea837"
      },
      "source": [
        "import numpy as np\n",
        "A = np.array([2,3])\n",
        "B = np.array([1,7])\n",
        "\n",
        "#Compute the dot product of A and B\n",
        "\n",
        "dot = np.dot(A,B)\n",
        "print(dot)"
      ],
      "execution_count": 8,
      "outputs": [
        {
          "output_type": "stream",
          "name": "stdout",
          "text": [
            "23\n"
          ]
        }
      ]
    }
  ]
}